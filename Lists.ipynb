{
 "cells": [
  {
   "cell_type": "markdown",
   "metadata": {},
   "source": [
    "# Creating and manipulating Lists"
   ]
  },
  {
   "cell_type": "markdown",
   "metadata": {},
   "source": [
    "## Creating a list"
   ]
  },
  {
   "cell_type": "code",
   "execution_count": 33,
   "metadata": {},
   "outputs": [
    {
     "name": "stdout",
     "output_type": "stream",
     "text": [
      "True\n"
     ]
    },
    {
     "data": {
      "text/plain": [
       "False"
      ]
     },
     "execution_count": 33,
     "metadata": {},
     "output_type": "execute_result"
    }
   ],
   "source": [
    "alphabets.clear()\n",
    "alphabets = ['g','o','b','i','t','h','a','a','s','a','n']\n",
    "print('a' in alphabets)\n",
    "'x' in alphabets"
   ]
  },
  {
   "cell_type": "code",
   "execution_count": 73,
   "metadata": {},
   "outputs": [
    {
     "name": "stdout",
     "output_type": "stream",
     "text": [
      "3\n",
      "5\n",
      "True\n"
     ]
    }
   ],
   "source": [
    "print(alphabets.count('a')) #count number of appearance\n",
    "print(alphabets.index('h'))#print the index of the element\n",
    "print('a' in alphabets)"
   ]
  },
  {
   "cell_type": "markdown",
   "metadata": {},
   "source": [
    "- Appending a new element to the list"
   ]
  },
  {
   "cell_type": "code",
   "execution_count": 35,
   "metadata": {
    "scrolled": true
   },
   "outputs": [
    {
     "name": "stdout",
     "output_type": "stream",
     "text": [
      "['g', 'o', 'b', 'i', 't', 'h', 'a', 'a', 's', 'a', 'n', 's']\n"
     ]
    }
   ],
   "source": [
    "alphabets.append('s')\n",
    "print(alphabets)"
   ]
  },
  {
   "cell_type": "markdown",
   "metadata": {},
   "source": [
    "- intializing and appending a new element"
   ]
  },
  {
   "cell_type": "code",
   "execution_count": 11,
   "metadata": {},
   "outputs": [
    {
     "name": "stdout",
     "output_type": "stream",
     "text": [
      "[]\n",
      "['n']\n",
      "['n', 'e', 'w']\n"
     ]
    }
   ],
   "source": [
    "mylist=list()#to initialize a list\n",
    "print(mylist)\n",
    "mylist.append('n')\n",
    "print(mylist)\n",
    "mylist.append('e')\n",
    "mylist.append('w')\n",
    "print(mylist)"
   ]
  },
  {
   "cell_type": "markdown",
   "metadata": {},
   "source": [
    "- Printing the elements using for loop"
   ]
  },
  {
   "cell_type": "code",
   "execution_count": 59,
   "metadata": {},
   "outputs": [
    {
     "name": "stdout",
     "output_type": "stream",
     "text": [
      "g\n",
      "o\n",
      "b\n",
      "i\n",
      "t\n",
      "h\n",
      "a\n",
      "a\n",
      "s\n",
      "a\n",
      "n\n",
      "s\n"
     ]
    }
   ],
   "source": [
    "for x in alphabets:\n",
    "    print(x)"
   ]
  },
  {
   "cell_type": "markdown",
   "metadata": {},
   "source": [
    "- User input"
   ]
  },
  {
   "cell_type": "markdown",
   "metadata": {},
   "source": [
    "## Manipulating Lists"
   ]
  },
  {
   "cell_type": "code",
   "execution_count": 6,
   "metadata": {
    "scrolled": true
   },
   "outputs": [
    {
     "name": "stdout",
     "output_type": "stream",
     "text": [
      "Enter your name:\n",
      "gobithaasan\n",
      "Hello, gobithaasan\n"
     ]
    }
   ],
   "source": [
    "print(\"Enter your name:\")\n",
    "x = input()\n",
    "print(\"Hello, \" + x)"
   ]
  },
  {
   "cell_type": "markdown",
   "metadata": {},
   "source": [
    "- a Python program that prompts the user to input 3 numbers, one at a time. The Python program should put the numbers in a list, sort the list, and print the sorted list. "
   ]
  },
  {
   "cell_type": "code",
   "execution_count": 8,
   "metadata": {
    "scrolled": true
   },
   "outputs": [
    {
     "name": "stdout",
     "output_type": "stream",
     "text": [
      "Enter a number: 1\n",
      "Enter a number: 2\n",
      "Enter a number: 3\n",
      "\n",
      "In ascending order: 1, 2, 3, \n",
      "\n",
      "In decending order: 3, 2, 1, "
     ]
    }
   ],
   "source": [
    "count=0\n",
    "mylist=[0,0,0]\n",
    "while(count<3):\n",
    "    print('Enter a number: ',end = '')\n",
    "    mylist[count]= int(input())\n",
    "    count +=1\n",
    "else:\n",
    "    print(\"\")\n",
    "\n",
    "mylist.sort()\n",
    "print('In ascending order:',end = ' ')\n",
    "\n",
    "for x in mylist:\n",
    "    print(x,end = ', ')\n",
    "print('\\n')    \n",
    "\n",
    "print('In decending order:',end = ' ')   \n",
    "mylist.reverse()\n",
    "for x in mylist:\n",
    "    print(x,end = ', ')"
   ]
  },
  {
   "cell_type": "markdown",
   "metadata": {},
   "source": [
    "`$ jupyter nbconvert --to html NOTEBOOK-NAME.ipynb`"
   ]
  }
 ],
 "metadata": {
  "kernelspec": {
   "display_name": "Python 3",
   "language": "python",
   "name": "python3"
  },
  "language_info": {
   "codemirror_mode": {
    "name": "ipython",
    "version": 3
   },
   "file_extension": ".py",
   "mimetype": "text/x-python",
   "name": "python",
   "nbconvert_exporter": "python",
   "pygments_lexer": "ipython3",
   "version": "3.7.6"
  }
 },
 "nbformat": 4,
 "nbformat_minor": 4
}
