{
 "cells": [
  {
   "cell_type": "markdown",
   "metadata": {},
   "source": [
    "# Socket programming"
   ]
  },
  {
   "cell_type": "code",
   "execution_count": null,
   "metadata": {},
   "outputs": [],
   "source": [
    "import socket \n",
    "\n",
    "ip = socket.gethostbyname('www.google.com')\n",
    "print(ip)"
   ]
  },
  {
   "cell_type": "markdown",
   "metadata": {},
   "source": [
    "## client"
   ]
  },
  {
   "cell_type": "code",
   "execution_count": null,
   "metadata": {},
   "outputs": [],
   "source": [
    "# An example script to connect to Google using socket \n",
    "# programming in Python \n",
    "import socket # for socket \n",
    "import sys \n",
    "\n",
    "#AF_INET refers to the address family ipv4. \n",
    "#The SOCK_STREAM means connection oriented TCP protocol.\n",
    "\n",
    "try: \n",
    "\ts = socket.socket(socket.AF_INET, socket.SOCK_STREAM) \n",
    "\tprint(\"Socket successfully created!\")\n",
    "except socket.error as err: \n",
    "\tprint(\"socket creation failed with error %s\" %(err)) \n",
    "\n",
    "# default port for socket \n",
    "port = 80\n",
    "\n",
    "try: \n",
    "\thost_ip = socket.gethostbyname('www.google.com') \n",
    "except socket.gaierror: \n",
    "\t# this means could not resolve the host \n",
    "\tprint (\"there was an error resolving the host\")\n",
    "\tsys.exit() \n",
    "\n",
    "# connecting to the server \n",
    "s.connect((host_ip, port)) \n",
    "\n",
    "print (\"The socket has successfully connected to google of IP address %s\" %(host_ip),\"at port %s\"%(port) )\n"
   ]
  },
  {
   "cell_type": "markdown",
   "metadata": {},
   "source": [
    "## Server"
   ]
  },
  {
   "cell_type": "code",
   "execution_count": null,
   "metadata": {
    "scrolled": true
   },
   "outputs": [
    {
     "name": "stdout",
     "output_type": "stream",
     "text": [
      "Socket successfully created\n",
      "socket binded to 12345\n",
      "socket is listening\n",
      "Got a request! ('192.168.0.140', 37614)\n"
     ]
    }
   ],
   "source": [
    "# first of all import the socket library \n",
    "import socket\n",
    "import sys \n",
    "\n",
    "# next create a socket object \n",
    "s = socket.socket(socket.AF_INET,socket.SOCK_STREAM)\n",
    "print(\"Socket successfully created\")\n",
    "\n",
    "# reserve a port on your computer in our \n",
    "# case it is 12345 but it can be anything \n",
    "port = 12345\n",
    "\n",
    "# Next bind to the port \n",
    "# we have not typed any ip in the ip field \n",
    "# instead we have inputted an empty string \n",
    "# this makes the server listen to requests \n",
    "# coming from other computers on the network \n",
    "s.bind(('', port))\n",
    "print(\"socket binded to %s\" %(port) )\n",
    "\n",
    "# put the socket into listening mode \n",
    "s.listen(5)\n",
    "print(\"socket is listening\")\n",
    "\n",
    "# a forever loop until we interrupt it or \n",
    "# an error occurs \n",
    "\n",
    "while True: \n",
    "# Establish connection with client. \n",
    "    c, addr = s.accept()\n",
    "    print('Got a request!', addr )\n",
    "\n",
    "# send a thank you message to the client. \n",
    "    c.send(b'Thank you for connecting') \n",
    "\n",
    "# Close the connection with the client \n",
    "    c.close()\n",
    "    \n",
    "s.close()\n",
    "sys.exit()\n"
   ]
  },
  {
   "cell_type": "markdown",
   "metadata": {},
   "source": [
    "- run the following to create request using [NetCat](http://netcat.sourceforge.net/)\n",
    "\n",
    "`$nc 192.168.0.134 12345`\n",
    "\n"
   ]
  },
  {
   "cell_type": "markdown",
   "metadata": {},
   "source": [
    "or use the code below to make a request"
   ]
  },
  {
   "cell_type": "code",
   "execution_count": null,
   "metadata": {},
   "outputs": [],
   "source": [
    "# Import socket module \n",
    "import socket                \n",
    "  \n",
    "# Create a socket object \n",
    "s = socket.socket()          \n",
    "  \n",
    "# Define the port on which you want to connect \n",
    "port = 12345                \n",
    "  \n",
    "# connect to the server on local computer \n",
    "s.connect(('127.0.0.1', port)) \n",
    "  \n",
    "# receive data from the server \n",
    "print s.recv(1000) \n",
    "# close the connection \n",
    "s.close()   "
   ]
  },
  {
   "cell_type": "markdown",
   "metadata": {},
   "source": [
    "## another simple example"
   ]
  },
  {
   "cell_type": "code",
   "execution_count": null,
   "metadata": {},
   "outputs": [],
   "source": [
    "import socket\n",
    "import sys\n",
    "\n",
    "mySocket = socket.socket(socket.AF_INET, socket.SOCK_STREAM)\n",
    "try:\n",
    "    mySocket.bind((\"\",1234))\n",
    "except socket.error:\n",
    "    print(\"Failed to bind\")\n",
    "    sys.exit()\n",
    "    \n",
    "mySocket.listen(5)\n",
    "while True:\n",
    "    conn, addr = mySocket.accept()\n",
    "    data = conn.recv(1000)\n",
    "    if not data:\n",
    "        break\n",
    "    print(\"Got a request!\")\n",
    "    \n",
    "conn.close()\n",
    "mySocket.close()"
   ]
  },
  {
   "cell_type": "code",
   "execution_count": null,
   "metadata": {},
   "outputs": [],
   "source": []
  }
 ],
 "metadata": {
  "kernelspec": {
   "display_name": "Python 3",
   "language": "python",
   "name": "python3"
  },
  "language_info": {
   "codemirror_mode": {
    "name": "ipython",
    "version": 3
   },
   "file_extension": ".py",
   "mimetype": "text/x-python",
   "name": "python",
   "nbconvert_exporter": "python",
   "pygments_lexer": "ipython3",
   "version": "3.7.6"
  }
 },
 "nbformat": 4,
 "nbformat_minor": 4
}
